{
 "cells": [
  {
   "cell_type": "code",
   "execution_count": 3,
   "id": "8638549c",
   "metadata": {},
   "outputs": [],
   "source": [
    "# Import libraries\n",
    "import numpy as np\n",
    "import pandas as pd\n",
    "from sklearn.compose import ColumnTransformer\n",
    "from sklearn.preprocessing import OneHotEncoder\n",
    "from sklearn.model_selection import train_test_split\n",
    "from sklearn.linear_model import LinearRegression"
   ]
  },
  {
   "cell_type": "code",
   "execution_count": 4,
   "id": "59ebf38c",
   "metadata": {
    "scrolled": true
   },
   "outputs": [
    {
     "data": {
      "text/html": [
       "<div>\n",
       "<style scoped>\n",
       "    .dataframe tbody tr th:only-of-type {\n",
       "        vertical-align: middle;\n",
       "    }\n",
       "\n",
       "    .dataframe tbody tr th {\n",
       "        vertical-align: top;\n",
       "    }\n",
       "\n",
       "    .dataframe thead th {\n",
       "        text-align: right;\n",
       "    }\n",
       "</style>\n",
       "<table border=\"1\" class=\"dataframe\">\n",
       "  <thead>\n",
       "    <tr style=\"text-align: right;\">\n",
       "      <th></th>\n",
       "      <th>Product_1</th>\n",
       "      <th>Product_2</th>\n",
       "      <th>Product_3</th>\n",
       "      <th>Location</th>\n",
       "      <th>Profit</th>\n",
       "    </tr>\n",
       "  </thead>\n",
       "  <tbody>\n",
       "    <tr>\n",
       "      <th>0</th>\n",
       "      <td>165349.20</td>\n",
       "      <td>136897.80</td>\n",
       "      <td>471784.10</td>\n",
       "      <td>City_1</td>\n",
       "      <td>192261.83</td>\n",
       "    </tr>\n",
       "    <tr>\n",
       "      <th>1</th>\n",
       "      <td>162597.70</td>\n",
       "      <td>151377.59</td>\n",
       "      <td>443898.53</td>\n",
       "      <td>City_2</td>\n",
       "      <td>191792.06</td>\n",
       "    </tr>\n",
       "    <tr>\n",
       "      <th>2</th>\n",
       "      <td>153441.51</td>\n",
       "      <td>101145.55</td>\n",
       "      <td>407934.54</td>\n",
       "      <td>City_3</td>\n",
       "      <td>191050.39</td>\n",
       "    </tr>\n",
       "    <tr>\n",
       "      <th>3</th>\n",
       "      <td>144372.41</td>\n",
       "      <td>118671.85</td>\n",
       "      <td>383199.62</td>\n",
       "      <td>City_1</td>\n",
       "      <td>182901.99</td>\n",
       "    </tr>\n",
       "    <tr>\n",
       "      <th>4</th>\n",
       "      <td>142107.34</td>\n",
       "      <td>91391.77</td>\n",
       "      <td>366168.42</td>\n",
       "      <td>City_3</td>\n",
       "      <td>166187.94</td>\n",
       "    </tr>\n",
       "  </tbody>\n",
       "</table>\n",
       "</div>"
      ],
      "text/plain": [
       "   Product_1  Product_2  Product_3 Location     Profit\n",
       "0  165349.20  136897.80  471784.10   City_1  192261.83\n",
       "1  162597.70  151377.59  443898.53   City_2  191792.06\n",
       "2  153441.51  101145.55  407934.54   City_3  191050.39\n",
       "3  144372.41  118671.85  383199.62   City_1  182901.99\n",
       "4  142107.34   91391.77  366168.42   City_3  166187.94"
      ]
     },
     "execution_count": 4,
     "metadata": {},
     "output_type": "execute_result"
    }
   ],
   "source": [
    "df=pd.read_csv('./Multiple-Linear-Dataset.csv')\n",
    "df.head()"
   ]
  },
  {
   "cell_type": "code",
   "execution_count": 5,
   "id": "1c0da6e9",
   "metadata": {},
   "outputs": [],
   "source": [
    "X = df.iloc[:, :-1].values\n",
    "y = df.iloc[:, -1].values"
   ]
  },
  {
   "cell_type": "code",
   "execution_count": 6,
   "id": "56dea949",
   "metadata": {},
   "outputs": [
    {
     "data": {
      "text/plain": [
       "array([[0.0, 0.0, 165349.2, 136897.8, 471784.1],\n",
       "       [1.0, 0.0, 162597.7, 151377.59, 443898.53],\n",
       "       [0.0, 1.0, 153441.51, 101145.55, 407934.54],\n",
       "       [0.0, 0.0, 144372.41, 118671.85, 383199.62],\n",
       "       [0.0, 1.0, 142107.34, 91391.77, 366168.42],\n",
       "       [0.0, 0.0, 131876.9, 99814.71, 362861.36],\n",
       "       [1.0, 0.0, 134615.46, 147198.87, 127716.82],\n",
       "       [0.0, 1.0, 130298.13, 145530.06, 323876.68],\n",
       "       [0.0, 0.0, 120542.52, 148718.95, 311613.29],\n",
       "       [1.0, 0.0, 123334.88, 108679.17, 304981.62],\n",
       "       [0.0, 1.0, 101913.08, 110594.11, 229160.95],\n",
       "       [1.0, 0.0, 100671.96, 91790.61, 249744.55],\n",
       "       [0.0, 1.0, 93863.75, 127320.38, 249839.44],\n",
       "       [1.0, 0.0, 91992.39, 135495.07, 252664.93],\n",
       "       [0.0, 1.0, 119943.24, 156547.42, 256512.92],\n",
       "       [0.0, 0.0, 114523.61, 122616.84, 261776.23],\n",
       "       [1.0, 0.0, 78013.11, 121597.55, 264346.06],\n",
       "       [0.0, 0.0, 94657.16, 145077.58, 282574.31],\n",
       "       [0.0, 1.0, 91749.16, 114175.79, 294919.57],\n",
       "       [0.0, 0.0, 86419.7, 153514.11, 0.0],\n",
       "       [1.0, 0.0, 76253.86, 113867.3, 298664.47],\n",
       "       [0.0, 0.0, 78389.47, 153773.43, 299737.29],\n",
       "       [0.0, 1.0, 73994.56, 122782.75, 303319.26],\n",
       "       [0.0, 1.0, 67532.53, 105751.03, 304768.73],\n",
       "       [0.0, 0.0, 77044.01, 99281.34, 140574.81],\n",
       "       [1.0, 0.0, 64664.71, 139553.16, 137962.62],\n",
       "       [0.0, 1.0, 75328.87, 144135.98, 134050.07],\n",
       "       [0.0, 0.0, 72107.6, 127864.55, 353183.81],\n",
       "       [0.0, 1.0, 66051.52, 182645.56, 118148.2],\n",
       "       [0.0, 0.0, 65605.48, 153032.06, 107138.38],\n",
       "       [0.0, 1.0, 61994.48, 115641.28, 91131.24],\n",
       "       [0.0, 0.0, 61136.38, 152701.92, 88218.23],\n",
       "       [1.0, 0.0, 63408.86, 129219.61, 46085.25],\n",
       "       [0.0, 1.0, 55493.95, 103057.49, 214634.81],\n",
       "       [1.0, 0.0, 46426.07, 157693.92, 210797.67],\n",
       "       [0.0, 0.0, 46014.02, 85047.44, 205517.64],\n",
       "       [0.0, 1.0, 28663.76, 127056.21, 201126.82],\n",
       "       [1.0, 0.0, 44069.95, 51283.14, 197029.42],\n",
       "       [0.0, 0.0, 20229.59, 65947.93, 185265.1],\n",
       "       [1.0, 0.0, 38558.51, 82982.09, 174999.3],\n",
       "       [1.0, 0.0, 28754.33, 118546.05, 172795.67],\n",
       "       [0.0, 1.0, 27892.92, 84710.77, 164470.71],\n",
       "       [1.0, 0.0, 23640.93, 96189.63, 148001.11],\n",
       "       [0.0, 0.0, 15505.73, 127382.3, 35534.17],\n",
       "       [1.0, 0.0, 22177.74, 154806.14, 28334.72],\n",
       "       [0.0, 0.0, 1000.23, 124153.04, 1903.93],\n",
       "       [0.0, 1.0, 1315.46, 115816.21, 297114.46],\n",
       "       [1.0, 0.0, 0.0, 135426.92, 0.0],\n",
       "       [0.0, 0.0, 542.05, 51743.15, 0.0],\n",
       "       [1.0, 0.0, 0.0, 116983.8, 45173.06]], dtype=object)"
      ]
     },
     "execution_count": 6,
     "metadata": {},
     "output_type": "execute_result"
    }
   ],
   "source": [
    "from sklearn.preprocessing import LabelEncoder, OneHotEncoder\n",
    "from sklearn.compose import ColumnTransformer\n",
    "labelencoder_X = LabelEncoder()\n",
    "X[:, 3] = labelencoder_X.fit_transform(X[:, 3])\n",
    "onehotencoder = ColumnTransformer([(\"Location\", OneHotEncoder(), [3])], remainder=\"passthrough\")\n",
    "X=onehotencoder.fit_transform(X)\n",
    "\n",
    "# Eliminating the Dummy Variable\n",
    "X = X[:, 1:]\n",
    "X"
   ]
  },
  {
   "cell_type": "code",
   "execution_count": 7,
   "id": "d754c9b9",
   "metadata": {},
   "outputs": [],
   "source": [
    "from sklearn.model_selection import train_test_split\n",
    "X_train, X_test, y_train, y_test = train_test_split(X, y, test_size=0.3, random_state=0)"
   ]
  },
  {
   "cell_type": "code",
   "execution_count": 8,
   "id": "7066c6e5",
   "metadata": {},
   "outputs": [
    {
     "data": {
      "text/plain": [
       "LinearRegression()"
      ]
     },
     "execution_count": 8,
     "metadata": {},
     "output_type": "execute_result"
    }
   ],
   "source": [
    "from sklearn.linear_model import LinearRegression\n",
    "regressor = LinearRegression()\n",
    "regressor.fit(X_train,y_train)"
   ]
  },
  {
   "cell_type": "code",
   "execution_count": 9,
   "id": "c3c909cd",
   "metadata": {},
   "outputs": [
    {
     "data": {
      "text/plain": [
       "array([104282.76472172, 132536.88499212, 133910.85007767,  72584.77489417,\n",
       "       179920.9276189 , 114549.31079233,  66444.43261346,  98404.96840122,\n",
       "       114499.82808602, 169367.50639895,  96522.6253998 ,  88040.6718287 ,\n",
       "       110949.99405525,  90419.1897851 , 128020.46250064])"
      ]
     },
     "execution_count": 9,
     "metadata": {},
     "output_type": "execute_result"
    }
   ],
   "source": [
    "# Predicting the Test set results\n",
    "y_pred = regressor.predict(X_test)\n",
    "y_pred"
   ]
  },
  {
   "cell_type": "code",
   "execution_count": 11,
   "id": "41abc1a3",
   "metadata": {
    "scrolled": false
   },
   "outputs": [
    {
     "data": {
      "text/html": [
       "<table class=\"simpletable\">\n",
       "<caption>OLS Regression Results</caption>\n",
       "<tr>\n",
       "  <th>Dep. Variable:</th>            <td>y</td>        <th>  R-squared:         </th> <td>   0.947</td>\n",
       "</tr>\n",
       "<tr>\n",
       "  <th>Model:</th>                   <td>OLS</td>       <th>  Adj. R-squared:    </th> <td>   0.945</td>\n",
       "</tr>\n",
       "<tr>\n",
       "  <th>Method:</th>             <td>Least Squares</td>  <th>  F-statistic:       </th> <td>   849.8</td>\n",
       "</tr>\n",
       "<tr>\n",
       "  <th>Date:</th>             <td>Mon, 12 Feb 2024</td> <th>  Prob (F-statistic):</th> <td>3.50e-32</td>\n",
       "</tr>\n",
       "<tr>\n",
       "  <th>Time:</th>                 <td>20:31:01</td>     <th>  Log-Likelihood:    </th> <td> -527.44</td>\n",
       "</tr>\n",
       "<tr>\n",
       "  <th>No. Observations:</th>      <td>    50</td>      <th>  AIC:               </th> <td>   1059.</td>\n",
       "</tr>\n",
       "<tr>\n",
       "  <th>Df Residuals:</th>          <td>    48</td>      <th>  BIC:               </th> <td>   1063.</td>\n",
       "</tr>\n",
       "<tr>\n",
       "  <th>Df Model:</th>              <td>     1</td>      <th>                     </th>     <td> </td>   \n",
       "</tr>\n",
       "<tr>\n",
       "  <th>Covariance Type:</th>      <td>nonrobust</td>    <th>                     </th>     <td> </td>   \n",
       "</tr>\n",
       "</table>\n",
       "<table class=\"simpletable\">\n",
       "<tr>\n",
       "    <td></td>       <th>coef</th>     <th>std err</th>      <th>t</th>      <th>P>|t|</th>  <th>[0.025</th>    <th>0.975]</th>  \n",
       "</tr>\n",
       "<tr>\n",
       "  <th>const</th> <td> 4.903e+04</td> <td> 2537.897</td> <td>   19.320</td> <td> 0.000</td> <td> 4.39e+04</td> <td> 5.41e+04</td>\n",
       "</tr>\n",
       "<tr>\n",
       "  <th>x1</th>    <td>    0.8543</td> <td>    0.029</td> <td>   29.151</td> <td> 0.000</td> <td>    0.795</td> <td>    0.913</td>\n",
       "</tr>\n",
       "</table>\n",
       "<table class=\"simpletable\">\n",
       "<tr>\n",
       "  <th>Omnibus:</th>       <td>13.727</td> <th>  Durbin-Watson:     </th> <td>   1.116</td>\n",
       "</tr>\n",
       "<tr>\n",
       "  <th>Prob(Omnibus):</th> <td> 0.001</td> <th>  Jarque-Bera (JB):  </th> <td>  18.536</td>\n",
       "</tr>\n",
       "<tr>\n",
       "  <th>Skew:</th>          <td>-0.911</td> <th>  Prob(JB):          </th> <td>9.44e-05</td>\n",
       "</tr>\n",
       "<tr>\n",
       "  <th>Kurtosis:</th>      <td> 5.361</td> <th>  Cond. No.          </th> <td>1.65e+05</td>\n",
       "</tr>\n",
       "</table><br/><br/>Notes:<br/>[1] Standard Errors assume that the covariance matrix of the errors is correctly specified.<br/>[2] The condition number is large, 1.65e+05. This might indicate that there are<br/>strong multicollinearity or other numerical problems."
      ],
      "text/plain": [
       "<class 'statsmodels.iolib.summary.Summary'>\n",
       "\"\"\"\n",
       "                            OLS Regression Results                            \n",
       "==============================================================================\n",
       "Dep. Variable:                      y   R-squared:                       0.947\n",
       "Model:                            OLS   Adj. R-squared:                  0.945\n",
       "Method:                 Least Squares   F-statistic:                     849.8\n",
       "Date:                Mon, 12 Feb 2024   Prob (F-statistic):           3.50e-32\n",
       "Time:                        20:31:01   Log-Likelihood:                -527.44\n",
       "No. Observations:                  50   AIC:                             1059.\n",
       "Df Residuals:                      48   BIC:                             1063.\n",
       "Df Model:                           1                                         \n",
       "Covariance Type:            nonrobust                                         \n",
       "==============================================================================\n",
       "                 coef    std err          t      P>|t|      [0.025      0.975]\n",
       "------------------------------------------------------------------------------\n",
       "const       4.903e+04   2537.897     19.320      0.000    4.39e+04    5.41e+04\n",
       "x1             0.8543      0.029     29.151      0.000       0.795       0.913\n",
       "==============================================================================\n",
       "Omnibus:                       13.727   Durbin-Watson:                   1.116\n",
       "Prob(Omnibus):                  0.001   Jarque-Bera (JB):               18.536\n",
       "Skew:                          -0.911   Prob(JB):                     9.44e-05\n",
       "Kurtosis:                       5.361   Cond. No.                     1.65e+05\n",
       "==============================================================================\n",
       "\n",
       "Notes:\n",
       "[1] Standard Errors assume that the covariance matrix of the errors is correctly specified.\n",
       "[2] The condition number is large, 1.65e+05. This might indicate that there are\n",
       "strong multicollinearity or other numerical problems.\n",
       "\"\"\""
      ]
     },
     "execution_count": 11,
     "metadata": {},
     "output_type": "execute_result"
    }
   ],
   "source": [
    "# Building the optimal model using Backward Elimination\n",
    "import statsmodels.api as sm\n",
    "X = np.append(arr=np.ones((len(X), 1)).astype(int), values=X, axis=1)\n",
    "'''\n",
    "X_opt = X[:, [0, 1, 2, 3, 4]]\n",
    "X_opt = np.array(X_opt, dtype=float)\n",
    "regressor_OLS = sm.OLS(endog=y,exog=X_opt).fit()\n",
    "regressor_OLS.summary()\n",
    "X_opt = X[:, [0, 1, 3, 4]]\n",
    "X_opt = np.array(X_opt, dtype=float)\n",
    "regressor_OLS = sm.OLS(endog=y, exog=X_opt).fit()\n",
    "regressor_OLS.summary()\n",
    "X_opt = X[:, [0, 1, 4]]\n",
    "X_opt = np.array(X_opt, dtype=float)\n",
    "regressor_OLS = sm.OLS(endog=y, exog=X_opt).fit()\n",
    "regressor_OLS.summary()\n",
    "'''\n",
    "\n",
    "X_opt = X[:, [0, 4]]\n",
    "X_opt = np.array(X_opt, dtype=float)\n",
    "regressor_OLS = sm.OLS(endog=y, exog=X_opt).fit()\n",
    "regressor_OLS.summary()"
   ]
  },
  {
   "cell_type": "markdown",
   "id": "e517384e",
   "metadata": {},
   "source": [
    "#### Two input features (Product_1 and Product_3); 1 output represents the estimated profit based on these two features."
   ]
  },
  {
   "cell_type": "code",
   "execution_count": 9,
   "id": "20ac6b72",
   "metadata": {},
   "outputs": [],
   "source": [
    "X = df.iloc[:, [0, 2]].values\n",
    "y = df.iloc[:, 4].values"
   ]
  },
  {
   "cell_type": "code",
   "execution_count": 10,
   "id": "3ba71a59",
   "metadata": {},
   "outputs": [],
   "source": [
    "X_train, X_test, y_train, y_test = train_test_split(X, y, test_size=0.2, random_state=0)"
   ]
  },
  {
   "cell_type": "code",
   "execution_count": 11,
   "id": "666fe5cc",
   "metadata": {},
   "outputs": [
    {
     "data": {
      "text/plain": [
       "LinearRegression()"
      ]
     },
     "execution_count": 11,
     "metadata": {},
     "output_type": "execute_result"
    }
   ],
   "source": [
    "regressor = LinearRegression()\n",
    "regressor.fit(X_train, y_train)"
   ]
  },
  {
   "cell_type": "code",
   "execution_count": 12,
   "id": "5241ba6a",
   "metadata": {},
   "outputs": [
    {
     "data": {
      "text/plain": [
       "array([102284.64605183, 133873.92383812, 134182.1495165 ,  73701.1069363 ,\n",
       "       180642.25299736, 114717.24903894,  68335.07575312,  97433.45922275,\n",
       "       114580.92136452, 170343.31979498])"
      ]
     },
     "execution_count": 12,
     "metadata": {},
     "output_type": "execute_result"
    }
   ],
   "source": [
    "# Predicting the Test set results\n",
    "y_pred = regressor.predict(X_test)\n",
    "y_pred"
   ]
  },
  {
   "cell_type": "code",
   "execution_count": null,
   "id": "f2741424",
   "metadata": {},
   "outputs": [],
   "source": []
  }
 ],
 "metadata": {
  "kernelspec": {
   "display_name": "Python 3 (ipykernel)",
   "language": "python",
   "name": "python3"
  },
  "language_info": {
   "codemirror_mode": {
    "name": "ipython",
    "version": 3
   },
   "file_extension": ".py",
   "mimetype": "text/x-python",
   "name": "python",
   "nbconvert_exporter": "python",
   "pygments_lexer": "ipython3",
   "version": "3.9.12"
  }
 },
 "nbformat": 4,
 "nbformat_minor": 5
}
